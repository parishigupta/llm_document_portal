{
 "cells": [
  {
   "cell_type": "code",
   "execution_count": 1,
   "id": "e894c43e",
   "metadata": {},
   "outputs": [],
   "source": [
    "from mylogger.custom_logger import CustomLogger"
   ]
  },
  {
   "cell_type": "code",
   "execution_count": 3,
   "id": "fa4730a7",
   "metadata": {},
   "outputs": [],
   "source": [
    "logger=CustomLogger().get_logger(\"exception_experiment\")"
   ]
  },
  {
   "cell_type": "code",
   "execution_count": 4,
   "id": "64447512",
   "metadata": {},
   "outputs": [
    {
     "ename": "CustomExceptions",
     "evalue": "\"\n        Error in [C:\\Users\\paris\\AppData\\Local\\Temp\\ipykernel_23416\\3242581683.py] at line number [23]\n        Message : division by zero\n        Traceback : \n        Traceback (most recent call last):\n  File \"C:\\Users\\paris\\AppData\\Local\\Temp\\ipykernel_23416\\3242581683.py\", line 23, in <module>\n    a = 1/0\nZeroDivisionError: division by zero\n\n        ",
     "output_type": "error",
     "traceback": [
      "\u001b[1;31m---------------------------------------------------------------------------\u001b[0m",
      "\u001b[1;31mZeroDivisionError\u001b[0m                         Traceback (most recent call last)",
      "Cell \u001b[1;32mIn[4], line 23\u001b[0m\n\u001b[0;32m     21\u001b[0m \u001b[38;5;28;01mtry\u001b[39;00m:\n\u001b[0;32m     22\u001b[0m     \u001b[38;5;66;03m#testing\u001b[39;00m\n\u001b[1;32m---> 23\u001b[0m     a \u001b[38;5;241m=\u001b[39m \u001b[38;5;241;43m1\u001b[39;49m\u001b[38;5;241;43m/\u001b[39;49m\u001b[38;5;241;43m0\u001b[39;49m\n\u001b[0;32m     24\u001b[0m     \u001b[38;5;28mprint\u001b[39m(a)\n",
      "\u001b[1;31mZeroDivisionError\u001b[0m: division by zero",
      "\nDuring handling of the above exception, another exception occurred:\n",
      "\u001b[1;31mCustomExceptions\u001b[0m                          Traceback (most recent call last)",
      "Cell \u001b[1;32mIn[4], line 27\u001b[0m\n\u001b[0;32m     25\u001b[0m \u001b[38;5;28;01mexcept\u001b[39;00m \u001b[38;5;167;01mException\u001b[39;00m \u001b[38;5;28;01mas\u001b[39;00m e:\n\u001b[0;32m     26\u001b[0m     app_exc \u001b[38;5;241m=\u001b[39m CustomExceptions(e,sys)\n\u001b[1;32m---> 27\u001b[0m     \u001b[38;5;28;01mraise\u001b[39;00m app_exc\n",
      "\u001b[1;31mCustomExceptions\u001b[0m: \"\n        Error in [C:\\Users\\paris\\AppData\\Local\\Temp\\ipykernel_23416\\3242581683.py] at line number [23]\n        Message : division by zero\n        Traceback : \n        Traceback (most recent call last):\n  File \"C:\\Users\\paris\\AppData\\Local\\Temp\\ipykernel_23416\\3242581683.py\", line 23, in <module>\n    a = 1/0\nZeroDivisionError: division by zero\n\n        "
     ]
    }
   ],
   "source": [
    "import sys\n",
    "import traceback\n",
    "class CustomExceptions(Exception):\n",
    "    \"\"\"Custom exception for Document Portal\"\"\"\n",
    "    def __init__(self,error_msg:str,error_details:sys):\n",
    "        _,_,exc_tb = error_details.exc_info()\n",
    "        self.file_name = exc_tb.tb_frame.f_code.co_filename\n",
    "        self.line_no = exc_tb.tb_lineno\n",
    "        self.error_msg = str(error_msg)\n",
    "        self.traceback_str = ''.join(traceback.format_exception(*error_details.exc_info()))\n",
    "\n",
    "    def __str__(self):\n",
    "        return f\"\"\"\"\n",
    "        Error in [{self.file_name}] at line number [{self.line_no}]\n",
    "        Message : {self.error_msg}\n",
    "        Traceback : \n",
    "        {self.traceback_str}\n",
    "        \"\"\"\n",
    "\n",
    "if __name__ == \"__main__\":\n",
    "    try:\n",
    "        #testing\n",
    "        a = 1/0\n",
    "        print(a)\n",
    "    except Exception as e:\n",
    "        app_exc = CustomExceptions(e,sys)\n",
    "        raise app_exc"
   ]
  },
  {
   "cell_type": "code",
   "execution_count": null,
   "id": "d2d3df82",
   "metadata": {},
   "outputs": [],
   "source": []
  },
  {
   "cell_type": "code",
   "execution_count": null,
   "id": "20e171f4",
   "metadata": {},
   "outputs": [],
   "source": []
  },
  {
   "cell_type": "code",
   "execution_count": null,
   "id": "561470ba",
   "metadata": {},
   "outputs": [],
   "source": []
  },
  {
   "cell_type": "code",
   "execution_count": null,
   "id": "59aab8df",
   "metadata": {},
   "outputs": [],
   "source": []
  },
  {
   "cell_type": "code",
   "execution_count": null,
   "id": "05d79d59",
   "metadata": {},
   "outputs": [],
   "source": []
  },
  {
   "cell_type": "code",
   "execution_count": null,
   "id": "543fbce7",
   "metadata": {},
   "outputs": [],
   "source": []
  },
  {
   "cell_type": "code",
   "execution_count": null,
   "id": "3b2817e5",
   "metadata": {},
   "outputs": [],
   "source": []
  },
  {
   "cell_type": "code",
   "execution_count": null,
   "id": "74535ad5",
   "metadata": {},
   "outputs": [],
   "source": []
  }
 ],
 "metadata": {
  "kernelspec": {
   "display_name": "Python 3",
   "language": "python",
   "name": "python3"
  },
  "language_info": {
   "codemirror_mode": {
    "name": "ipython",
    "version": 3
   },
   "file_extension": ".py",
   "mimetype": "text/x-python",
   "name": "python",
   "nbconvert_exporter": "python",
   "pygments_lexer": "ipython3",
   "version": "3.10.18"
  }
 },
 "nbformat": 4,
 "nbformat_minor": 5
}
